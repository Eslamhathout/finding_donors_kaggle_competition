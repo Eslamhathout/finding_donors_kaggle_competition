from sklearn.linear_model import LogisticRegression
clf = LogisticRegression(random_state = 0, C=0.1)
clf.fit(X_train, y_train)
test_data = pd.read_csv("test_census.csv")

skewed = ['capital-gain', 'capital-loss']
features_log_transformed = pd.DataFrame(data = test_data)
features_log_transformed[skewed] = features_raw[skewed].apply(lambda x: np.log(x + 1))
from sklearn.preprocessing import MinMaxScaler

# Initialize a scaler, then apply it to the features
scaler = MinMaxScaler() # default=(0, 1)
numerical = ['age', 'education-num', 'capital-gain', 'capital-loss', 'hours-per-week']

features_log_minmax_transform = pd.DataFrame(data = features_log_transformed)
features_log_minmax_transform[numerical] = scaler.fit_transform(features_log_transformed[numerical])

# TODO: One-hot encode the 'features_log_minmax_transform' data using pandas.get_dummies()
features_final = pd.get_dummies(features_log_minmax_transform)

#Replacing NAN with the mean

for column in features_final:
    mean = features_final[column].mean()
    features_final[column].fillna(mean, inplace=True)

#features_final.head(n=50)
predected = clf.predict(features_final)

#Creating a dataframe
results = pd.DataFrame(data = predected, columns=['income'])

# adding index column
results['id'] = range(0, len(predected))
print(len(predected))
results.head()

#write to a submission.csv file
results.to_csv(path_or_buf='submission.csv', sep=',', header=True,columns=['id','income'] ,index=False)
results.head(n=200)
